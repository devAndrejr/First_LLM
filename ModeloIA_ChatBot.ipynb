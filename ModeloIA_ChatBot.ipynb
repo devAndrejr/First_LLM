{
  "nbformat": 4,
  "nbformat_minor": 0,
  "metadata": {
    "colab": {
      "provenance": [],
      "authorship_tag": "ABX9TyPLUEL5gjV4DolKNCSQEUmJ",
      "include_colab_link": true
    },
    "kernelspec": {
      "name": "python3",
      "display_name": "Python 3"
    },
    "language_info": {
      "name": "python"
    }
  },
  "cells": [
    {
      "cell_type": "markdown",
      "metadata": {
        "id": "view-in-github",
        "colab_type": "text"
      },
      "source": [
        "<a href=\"https://colab.research.google.com/github/devAndrejr/First_LLM/blob/main/ModeloIA_ChatBot.ipynb\" target=\"_parent\"><img src=\"https://colab.research.google.com/assets/colab-badge.svg\" alt=\"Open In Colab\"/></a>"
      ]
    },
    {
      "cell_type": "markdown",
      "source": [
        "Instalando o SDK do Google"
      ],
      "metadata": {
        "id": "RWqUpDlC5y2P"
      }
    },
    {
      "cell_type": "code",
      "execution_count": null,
      "metadata": {
        "id": "T_OjILnQ5xOv"
      },
      "outputs": [],
      "source": [
        "!pip install -q -U google-generativeai"
      ]
    },
    {
      "cell_type": "markdown",
      "source": [
        "Importando a Biblioteca IA do Google\n",
        "Configurando a AI APIKey"
      ],
      "metadata": {
        "id": "ZpFP7IbT6Ra7"
      }
    },
    {
      "cell_type": "code",
      "source": [
        "# Import the Python SDK\n",
        "import google.generativeai as genai\n",
        "from google.colab import userdata\n",
        "api_key = userdata.get(\"SECRET_KEY\")\n",
        "\n",
        "genai.configure(api_key=api_key)"
      ],
      "metadata": {
        "id": "HzvApl7X6Meo"
      },
      "execution_count": 29,
      "outputs": []
    },
    {
      "cell_type": "markdown",
      "source": [
        "Listar os Modelos Disponíveis"
      ],
      "metadata": {
        "id": "JOihlAzV6wjO"
      }
    },
    {
      "cell_type": "code",
      "source": [
        "for m in genai.list_models():\n",
        "  if 'generateContent' in m.supported_generation_methods:\n",
        "    print(m.name)"
      ],
      "metadata": {
        "colab": {
          "base_uri": "https://localhost:8080/",
          "height": 138
        },
        "id": "luqRe2Eg6zBs",
        "outputId": "71940d97-db1f-4c4f-8633-feb2a9b5a61b"
      },
      "execution_count": null,
      "outputs": [
        {
          "output_type": "stream",
          "name": "stdout",
          "text": [
            "models/gemini-1.0-pro\n",
            "models/gemini-1.0-pro-001\n",
            "models/gemini-1.0-pro-latest\n",
            "models/gemini-1.0-pro-vision-latest\n",
            "models/gemini-1.5-pro-latest\n",
            "models/gemini-pro\n",
            "models/gemini-pro-vision\n"
          ]
        }
      ]
    },
    {
      "cell_type": "markdown",
      "source": [
        "Configuração de Temperatura"
      ],
      "metadata": {
        "id": "m7B30llk_pf7"
      }
    },
    {
      "cell_type": "code",
      "source": [
        "generation_config = {\n",
        "   \"candidate_count\":1,\n",
        "   \"temperature\":0.5,\n",
        "}"
      ],
      "metadata": {
        "id": "QXBKOkhY_JQW"
      },
      "execution_count": null,
      "outputs": []
    },
    {
      "cell_type": "markdown",
      "source": [
        "CONFIGURAÇÃO DE SEGURANÇA"
      ],
      "metadata": {
        "id": "ZqkxDbJoA4vO"
      }
    },
    {
      "cell_type": "code",
      "source": [
        "Safety_settings ={\n",
        "    \"HARASSMENT\":\"BLOCK_NONE\",\n",
        "    \"HATE\":\"BLOCK_NONE\",\n",
        "    \"SEXUAL\":\"BLOCK_NONE\",\n",
        "    \"DANGEROUS\":\"BLOCK_NONE\",\n",
        "}"
      ],
      "metadata": {
        "id": "7Sxftcf9_m9S"
      },
      "execution_count": null,
      "outputs": []
    },
    {
      "cell_type": "markdown",
      "source": [
        "INICIALIZANDO O MODELO\n"
      ],
      "metadata": {
        "id": "j3XB1oIhDLwu"
      }
    },
    {
      "cell_type": "code",
      "source": [
        "model = genai.GenerativeModel(\n",
        "    model_name=\"gemini-1.0-pro\",\n",
        "    generation_config=generation_config,\n",
        "    safety_settings=Safety_settings)"
      ],
      "metadata": {
        "id": "oIm2XOjkDN1x"
      },
      "execution_count": null,
      "outputs": []
    },
    {
      "cell_type": "markdown",
      "source": [
        "TESTANDO GERADOR DE RESPOSTAS"
      ],
      "metadata": {
        "id": "BVf_6P-aNsci"
      }
    },
    {
      "cell_type": "code",
      "source": [
        "response = model.generate_content(\"Vamos aprender conteúdo sobre IA. Me dê sugestões.\")\n",
        "print(response.text)"
      ],
      "metadata": {
        "colab": {
          "base_uri": "https://localhost:8080/",
          "height": 832
        },
        "id": "qy62Uts7Nw-0",
        "outputId": "c7950577-44bc-4daa-8cac-f256994510a5"
      },
      "execution_count": null,
      "outputs": [
        {
          "output_type": "stream",
          "name": "stdout",
          "text": [
            "**Conceitos Fundamentais**\n",
            "\n",
            "* O que é Inteligência Artificial (IA)?\n",
            "* Tipos de IA: estreita, geral e superinteligência\n",
            "* Aprendizado de máquina, aprendizado profundo e redes neurais\n",
            "\n",
            "**Técnicas e Algoritmos**\n",
            "\n",
            "* Regressão linear e logística\n",
            "* Árvores de decisão e florestas aleatórias\n",
            "* Máquinas de vetores de suporte (SVMs)\n",
            "* Redes neurais convolucionais (CNNs)\n",
            "* Redes neurais recorrentes (RNNs)\n",
            "\n",
            "**Aplicações da IA**\n",
            "\n",
            "* Reconhecimento de imagem e vídeo\n",
            "* Processamento de linguagem natural (PNL)\n",
            "* Veículos autônomos\n",
            "* Cuidados de saúde\n",
            "* Finanças\n",
            "\n",
            "**Ética e Implicações Sociais**\n",
            "\n",
            "* Preconceito e discriminação na IA\n",
            "* Perda de empregos e impactos econômicos\n",
            "* Responsabilidade e regulamentação da IA\n",
            "\n",
            "**Ferramentas e Recursos**\n",
            "\n",
            "* Bibliotecas de aprendizado de máquina: TensorFlow, PyTorch, Keras\n",
            "* Plataformas de IA em nuvem: AWS, Azure, Google Cloud\n",
            "* Cursos e tutoriais online: Coursera, edX, Udemy\n",
            "\n",
            "**Tendências e Avanços**\n",
            "\n",
            "* IA generativa (por exemplo, ChatGPT, Dall-E 2)\n",
            "* Aprendizado por reforço\n",
            "* IA quântica\n",
            "* IA para o bem social\n",
            "\n",
            "**Livros e Artigos Recomendados**\n",
            "\n",
            "* \"Inteligência Artificial: Uma Abordagem Moderna\" por Stuart Russell e Peter Norvig\n",
            "* \"Aprendizado de Máquina\" por Ethem Alpaydin\n",
            "* \"Inteligência Artificial para Todos\" por Andrew Ng\n",
            "* Artigos de pesquisa sobre IA em periódicos como Nature e Science\n"
          ]
        }
      ]
    },
    {
      "cell_type": "markdown",
      "source": [
        "INICIANDO CRIAÇÃO DO CHATBOT"
      ],
      "metadata": {
        "id": "A2fSNKk8Ph4s"
      }
    },
    {
      "cell_type": "code",
      "source": [
        "chat = model.start_chat(history=[])"
      ],
      "metadata": {
        "id": "HolEJyksPlcf"
      },
      "execution_count": null,
      "outputs": []
    },
    {
      "cell_type": "markdown",
      "source": [
        "variável para iniciar a conversa"
      ],
      "metadata": {
        "id": "OjTIx8AdP7DW"
      }
    },
    {
      "cell_type": "code",
      "source": [
        "prompt = input(\"Esperando prompt: \")\n",
        "\n",
        "while prompt != \"fim\":\n",
        "  response = chat.send_message(prompt)\n",
        "  print(\"Resposta: \", response.text, \"\\n\")\n",
        "  prompt = input(\"Esperando prompt: \")"
      ],
      "metadata": {
        "colab": {
          "base_uri": "https://localhost:8080/",
          "height": 138
        },
        "id": "o-8FCOj-QAKe",
        "outputId": "87e3c488-4494-48df-fcab-b02fe90c5a1a"
      },
      "execution_count": null,
      "outputs": [
        {
          "name": "stdout",
          "output_type": "stream",
          "text": [
            "Esperando prompt: Qual é a capital do japão?\n",
            "Resposta:  Tóquio \n",
            "\n",
            "Esperando prompt: Qual é a comida típica deste país?\n",
            "Resposta:  Sushi \n",
            "\n",
            "Esperando prompt: fim\n"
          ]
        }
      ]
    }
  ]
}